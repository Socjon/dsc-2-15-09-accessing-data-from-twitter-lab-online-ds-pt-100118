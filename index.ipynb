{
 "cells": [
  {
   "cell_type": "markdown",
   "metadata": {},
   "source": [
    "# Data mining with Twitter API and Basic NLP - Lab \n",
    "\n",
    "## Introduction\n",
    "In this lab, we shall use our Twitter developer account created in the previous lessson and the keys we generated to make some API calls to twitter. We shall look at a number of ways of accessing twitter data which may suit different use cases for twitter API calling. We shall also get an introduction to the `tweepy` Python library to help us with tweet mining and parsing. We shall perform some basic NLP to count the term frequencies etc.\n",
    "\n",
    "**Note:** You are encourages to consult the Twitter API documentation and `tweepy` library documentation to understand structure of tweets and their properties for accessing specific elements. \n",
    "\n",
    "\n",
    "## Objectives\n",
    "\n",
    "You will be able to:\n",
    "* Successfully request tweet data from the Twitter API using the Tweepy library\n",
    "* Understand the structure of Twitter JSON object structure\n",
    "* Parse tweet data and perform basic text analysis using basic NLP techniques\n",
    "* Visualize hashtags, mentions from tweets using number of visualization techniques\n",
    "* Collect and Parse tweets for a number of use cases"
   ]
  },
  {
   "cell_type": "markdown",
   "metadata": {},
   "source": [
    "## `tweepy`\n",
    "\n",
    "Tweepy is open-source library, hosted on GitHub and enables Python to communicate with Twitter platform and use its API. Remember , we can access Twitter API and access tweets even without this library. Tweepy makes the whole process simple and easy to understand and execute. Visit [HERE](https://pythonhosted.org/tweepy/index.html) for Tweepy's official documentation and a full list of offered features. \n",
    "\n",
    "Installing tweepy is easy, it can be pip installed as shown below:"
   ]
  },
  {
   "cell_type": "code",
   "execution_count": 1,
   "metadata": {},
   "outputs": [
    {
     "name": "stdout",
     "output_type": "stream",
     "text": [
      "Requirement already satisfied: tweepy in c:\\users\\j\\anaconda3\\lib\\site-packages (3.7.0)\n",
      "Requirement already satisfied: requests-oauthlib>=0.7.0 in c:\\users\\j\\anaconda3\\lib\\site-packages (from tweepy) (1.0.0)\n",
      "Requirement already satisfied: requests>=2.11.1 in c:\\users\\j\\anaconda3\\lib\\site-packages (from tweepy) (2.20.1)\n",
      "Requirement already satisfied: six>=1.10.0 in c:\\users\\j\\anaconda3\\lib\\site-packages (from tweepy) (1.11.0)\n",
      "Requirement already satisfied: PySocks>=1.5.7 in c:\\users\\j\\anaconda3\\lib\\site-packages (from tweepy) (1.6.8)\n",
      "Requirement already satisfied: oauthlib>=0.6.2 in c:\\users\\j\\anaconda3\\lib\\site-packages (from requests-oauthlib>=0.7.0->tweepy) (2.1.0)\n",
      "Requirement already satisfied: idna<2.8,>=2.5 in c:\\users\\j\\anaconda3\\lib\\site-packages (from requests>=2.11.1->tweepy) (2.7)\n",
      "Requirement already satisfied: chardet<3.1.0,>=3.0.2 in c:\\users\\j\\anaconda3\\lib\\site-packages (from requests>=2.11.1->tweepy) (3.0.4)\n",
      "Requirement already satisfied: urllib3<1.25,>=1.21.1 in c:\\users\\j\\anaconda3\\lib\\site-packages (from requests>=2.11.1->tweepy) (1.23)\n",
      "Requirement already satisfied: certifi>=2017.4.17 in c:\\users\\j\\anaconda3\\lib\\site-packages (from requests>=2.11.1->tweepy) (2018.11.29)\n"
     ]
    },
    {
     "name": "stderr",
     "output_type": "stream",
     "text": [
      "No metadata found in c:\\users\\j\\anaconda3\\lib\\site-packages\n",
      "No metadata found in c:\\users\\j\\anaconda3\\lib\\site-packages\n",
      "No metadata found in c:\\users\\j\\anaconda3\\lib\\site-packages\n",
      "No metadata found in c:\\users\\j\\anaconda3\\lib\\site-packages\n",
      "No metadata found in c:\\users\\j\\anaconda3\\lib\\site-packages\n"
     ]
    }
   ],
   "source": [
    "# uncomment and pip install tweepy if you havent done so already\n",
    "!pip install tweepy"
   ]
  },
  {
   "cell_type": "markdown",
   "metadata": {},
   "source": [
    "We can now simply import import tweepy in the python working environment"
   ]
  },
  {
   "cell_type": "code",
   "execution_count": 2,
   "metadata": {},
   "outputs": [],
   "source": [
    "# Import tweepy\n",
    "import tweepy\n",
    "\n",
    "import operator \n",
    "import json\n",
    "from collections import Counter\n",
    "import pandas as pd\n",
    "from nltk import bigrams"
   ]
  },
  {
   "cell_type": "markdown",
   "metadata": {},
   "source": [
    "So we are now good to move on with setting up tweepy with our user and access tokens. \n",
    "\n",
    "### Using tweepy\n",
    "Tweepy supports accessing Twitter through OAuth. Twitter has stopped accepting Basic Authentication so OAuth is now the only way to use the Twitter API. In order to create the API object, however, we must first authenticate ourselves with our developer information.\n",
    "* Enter your credentials into access_token, access_token_secret, consumer_key, and consumer_secret below"
   ]
  },
  {
   "cell_type": "code",
   "execution_count": 3,
   "metadata": {},
   "outputs": [],
   "source": [
    "# Set credential variables with appropriate string values\n",
    "consumer_key = 'n9DTjXik6lKAqhVXDlOWtZpCV' \n",
    "consumer_secret = 'dVY3VKVaS5ZXwLhXbR7Y5QFh1tsoThVPFLnR8o8pHyfSSiQCPU' \n",
    "access_token = '1076139685175541760-WH4YSB3yCXMwUkmRPxEk2mu2iVJQac'\n",
    "access_token_secret = 'uf9FIF3JdwzW7A42sjNAcMCT9anYwHbT68O6nyVgmwKr2'"
   ]
  },
  {
   "cell_type": "markdown",
   "metadata": {},
   "source": [
    "### Create the Authentication Object\n",
    "\n",
    "Our next step would be to create tweepy  OAuthHandler instance with our consumer key and secret and set access token and secret using `tweepy.set_access_token`. We can then create an API object with this information.\n",
    "\n",
    "We shall set it up as shown below:\n",
    "\n",
    "```python\n",
    "# Create the tweepy authentication object with consumer key and secret\n",
    "auth = tweepy.OAuthHandler(consumer_key, consumer_secret)\n",
    "# Setting your access token and secret\n",
    "auth.set_access_token(access_token, access_token_secret)\n",
    "# Creating the API object while passing in auth information\n",
    "my_first_api = tweepy.API(auth)\n",
    "```"
   ]
  },
  {
   "cell_type": "code",
   "execution_count": 4,
   "metadata": {},
   "outputs": [],
   "source": [
    "# Paste above code here with your credentials to create the Oauth Handler Instance and API object\n",
    "# Create the tweepy authentication object with consumer key and secret\n",
    "auth = tweepy.OAuthHandler(consumer_key, consumer_secret)\n",
    "# Setting your access token and secret\n",
    "auth.set_access_token(access_token, access_token_secret)\n",
    "# Creating the API object while passing in auth information\n",
    "my_first_api = tweepy.API(auth)"
   ]
  },
  {
   "cell_type": "markdown",
   "metadata": {},
   "source": [
    "If the above cell executed without any error.. congratulations. You can now start mining the Twitter API through `my_first_api` object. \n",
    "\n",
    "NOTE: If you have a web application and are using a callback URL that needs to be supplied dynamically, you would pass it in like shown below:\n",
    "```python\n",
    "auth = tweepy.OAuthHandler(consumer_token, consumer_secret, callback_url)\n",
    "```"
   ]
  },
  {
   "cell_type": "markdown",
   "metadata": {},
   "source": [
    "## Collecting Tweets From Own Timeline - `home_timeline()` method\n",
    "A detailed indsight into Tweepy's API object with supported methods to post, retrieve and select tweets can be found at [Tweepy's API Dcoumentation](https://pythonhosted.org/tweepy/api.html#api-reference). It is strongly recommended for you to visit the documentation and study all the relevant methods and arguments that they take. \n",
    "\n",
    "We can directly collect tweets from our home timeline by applying the method `api.home_timeline()`, which collects 20 most recent tweets by default (including retweeted tweets). To adjust the desired number of tweets (take 100 tweets for example),  we can pass in a parameter value as (count = 100).\n",
    "\n",
    "By default we get first 140 characters of a tweet. We can, however, optionally pass in an extra argument `tweet_mode='extended'` to get the full length of the tweet. This might be useful if you are interested in analyzing the full text of tweets rather than geographical locations, and hashtags etc. only. \n",
    "\n",
    "Perform the following \n",
    "* See how to get extended tweets [Here](https://github.com/sferik/twitter/issues/880). Use the API object to get tweets from your timeline ,collect 500 tweets.  \n",
    "* Save the results into `my_timeline_tweets`. "
   ]
  },
  {
   "cell_type": "code",
   "execution_count": 5,
   "metadata": {},
   "outputs": [],
   "source": [
    "# Store the tweets it in a variable called my_timeline_tweets\n",
    "\n",
    "my_timeline_tweets = my_first_api.user_timeline('@NOAA', count=500, tweet_mode='extended')\n"
   ]
  },
  {
   "cell_type": "markdown",
   "metadata": {},
   "source": [
    "### Tweet JSON\n",
    "\n",
    "All Twitter APIs that return Tweets provide that data encoded using JavaScript Object Notation (JSON). Here is a summary of information you may find in a typical Tweet JASON. \n",
    "\n",
    "* Each Tweet has an **author**, a **message**, a **unique ID**, a **timestamp** of when it was posted. \n",
    "* Some tweets contain **geo metadata** shared by the user. \n",
    "* Each User has a Twitter **name**, an **ID**, a **number of followers**, and most often an account **bio**.\n",
    "* With each Tweet we also get **\"entity\"** objects, which are arrays of common Tweet contents such as **hashtags**, **mentions**, **media**, and **links**. \n",
    "* If there are links, the JSON payload can also provide metadata such as the fully unwound **URL** and the webpage’s **title** and **description**.\n",
    "\n",
    "You may not need all this information for every experiment, but its a good idea to have a general understanding of what data we receive as the result of our API call. \n",
    "\n",
    "Here is what a Tweet JSON structure looks like:\n",
    "\n",
    "---\n",
    "\n",
    "```pythpn\n",
    "{\n",
    "  \"created_at\": \"Thu Apr 06 15:24:15 +0000 2017\",\n",
    "  \"id_str\": \"850006245121695744\",\n",
    "  \"text\": \"1\\/ Today we\\u2019re sharing our vision for the future of the Twitter API platform!\\nhttps:\\/\\/t.co\\/XweGngmxlP\",\n",
    "  \"user\": {\n",
    "    \"id\": 2244994945,\n",
    "    \"name\": \"Twitter Dev\",\n",
    "    \"screen_name\": \"TwitterDev\",\n",
    "    \"location\": \"Internet\",\n",
    "    \"url\": \"https:\\/\\/dev.twitter.com\\/\",\n",
    "    \"description\": \"Your official source for Twitter Platform news, updates & events. Need technical help? Visit https:\\/\\/twittercommunity.com\\/ \\u2328\\ufe0f #TapIntoTwitter\"\n",
    "  },\n",
    "  \"place\": {   \n",
    "  },\n",
    "  \"entities\": {\n",
    "    \"hashtags\": [      \n",
    "    ],\n",
    "    \"urls\": [\n",
    "      {\n",
    "        \"url\": \"https:\\/\\/t.co\\/XweGngmxlP\",\n",
    "        \"unwound\": {\n",
    "          \"url\": \"https:\\/\\/cards.twitter.com\\/cards\\/18ce53wgo4h\\/3xo1c\",\n",
    "          \"title\": \"Building the Future of the Twitter API Platform\"\n",
    "        }\n",
    "      }\n",
    "    ],\n",
    "    \"user_mentions\": [     \n",
    "    ]\n",
    "  }\n",
    "}\n",
    "\n",
    "\n",
    "\n",
    "```\n",
    "\n",
    "---"
   ]
  },
  {
   "cell_type": "markdown",
   "metadata": {},
   "source": [
    "## Parsing Tweet JSON\n",
    "\n",
    "Let's try to print a single tweet to see what it looks like"
   ]
  },
  {
   "cell_type": "code",
   "execution_count": 6,
   "metadata": {
    "scrolled": true
   },
   "outputs": [
    {
     "ename": "SyntaxError",
     "evalue": "invalid syntax (<ipython-input-6-1c287ba87b00>, line 2)",
     "output_type": "error",
     "traceback": [
      "\u001b[1;36m  File \u001b[1;32m\"<ipython-input-6-1c287ba87b00>\"\u001b[1;36m, line \u001b[1;32m2\u001b[0m\n\u001b[1;33m    my_timeline_tweets[0].\u001b[0m\n\u001b[1;37m                          ^\u001b[0m\n\u001b[1;31mSyntaxError\u001b[0m\u001b[1;31m:\u001b[0m invalid syntax\n"
     ]
    }
   ],
   "source": [
    "# Unomment below to view contents of the tweet\n",
    "#my_timeline_tweets[0]."
   ]
  },
  {
   "cell_type": "markdown",
   "metadata": {},
   "source": [
    "So the Tweet here is in the JSON format , which we can parse as dictionaries. \n",
    "\n",
    "We can iterate through collected tweets in `my_timeline_tweets` to access any of the properties of each tweet. Let's print the name and location of users with `.user.name`, `.user.locations` propoerties, and content of the each tweet using the `.text` property. \n",
    "\n",
    "**NOTE:** Use `.full_text` in case of using `tweet_mode='extended'` OR just `.text` if you havent passed in the extended argument. \n",
    "\n",
    "#### Iterate through `my_timeline_tweets` and print the usernames, location and text of the each collected tweet. "
   ]
  },
  {
   "cell_type": "code",
   "execution_count": null,
   "metadata": {},
   "outputs": [],
   "source": [
    "for tweet in my_timeline_tweets:\n",
    "    #print (tweet.user.name)\n",
    "    #print (tweet.user.location)\n",
    "    #print (tweet.full_text)\n",
    "    print (tweet._json)\n",
    "    print ('--------------//-----------//-----------')"
   ]
  },
  {
   "cell_type": "code",
   "execution_count": null,
   "metadata": {
    "scrolled": true
   },
   "outputs": [],
   "source": [
    "# Iterate through my_timeline_tweets and print the name, location and text for each tweet using k:v pairs addressing\n",
    "\n",
    "\n",
    "# EXAMPLE OUTPUT\n",
    "    \n",
    "# Dr. Data&Science 🎃\n",
    "# SFO | ATL | 🛫\n",
    "# RT @RalstonReports: The turnout models are looking better for Democrats in Nevada as they boost their statewide lead a bit, but long way to…\n",
    "# ----------------------------------------------------------------------------\n",
    "# Data Science Central\n",
    "# Seattle, WA\n",
    "# [Cheat Sheet] Python Basics For Data Science https://t.co/fH07ZFF9zw\n",
    "# ----------------------------------------------------------------------------\n",
    "# Dr. Data&Science 🎃\n",
    "# SFO | ATL | 🛫\n",
    "# RT @Popehat: NYT:  Well, Okay, But Are People Mean To Trump?\n",
    "# Everyone: Can you not\n",
    "# NYT:  Jazz: What If Black People Got Involved In Jazz\n",
    "# Ev…\n",
    "# .\n",
    "# .\n",
    "# .\n",
    "# .\n",
    "# IBM Data Science\n",
    "# San Francisco, CA\n",
    "# Essential math for data science: A curated list including functions, variables, equations, graphs, statistics, linear algebra, calculus, discrete math, optimization, and operation research topics, whew. Check it out here: https://t.co/0JtcPuJ04N via @kdnuggets #datascience https://t.co/E2m2trORG9\n",
    "# ----------------------------------------------------------------------------\n",
    "# Data Science Central\n",
    "# Los Angeles, CA\n",
    "# The Mathematics of Machine Learning https://t.co/GUBZVT8NUj"
   ]
  },
  {
   "cell_type": "markdown",
   "metadata": {},
   "source": [
    "Thats is great. We are getting some meaningful information indeed. \n",
    "\n",
    "#### Before we proceed ....\n",
    "*We are using a test account and following a number of AI, Data science and Tech groups/companies to progress through the lab. Based on your own preferences , your results may be different than what you see here. You are encouraged to ask some meaningful questions and parse the JSON around how YOU use twitter.**\n",
    "\n"
   ]
  },
  {
   "cell_type": "markdown",
   "metadata": {},
   "source": [
    "###  Store the Tweets JSON File"
   ]
  },
  {
   "cell_type": "markdown",
   "metadata": {},
   "source": [
    "It is always a good idea to store the tweets as a JSON file as executing above cells will bring in new tweets and will keep re-writing the object. This can have negative impacts on your analysis (unless you are analyzing live streams). \n",
    "* Store the `my_timeline_tweets` JSON object in `tweets.json` file."
   ]
  },
  {
   "cell_type": "code",
   "execution_count": 7,
   "metadata": {},
   "outputs": [],
   "source": [
    "# Store my_timeline_tweets as a JSON file\n",
    "import json\n",
    "my_list_of_dicts = []\n",
    "for each_json_tweet in my_timeline_tweets:\n",
    "    my_list_of_dicts.append(each_json_tweet._json)\n",
    "\n",
    "with open('tweets.json', 'w') as file:\n",
    "    file.write(json.dumps(my_list_of_dicts, indent=4))"
   ]
  },
  {
   "cell_type": "markdown",
   "metadata": {},
   "source": [
    "#### Open `tweets.json` and inspect its contents in relation to the JSON object shown below. "
   ]
  },
  {
   "cell_type": "markdown",
   "metadata": {},
   "source": [
    "## NATURAL LANGUAGE PROCESSING\n",
    "\n",
    "Twitter data is of the most favorite dataset for data scientists and Natural Language Processing (NLP) researchers. Besides its magnanimous size, Twitter data has other unique qualities as well: it comprises of real-life conversations, limited word length, rich variety, and real-time data stream. Advanced analytics on Twitter data needs one to go beyond the words and parse sentences into syntactic representations to develop a better contextual understanding of the tweet content. We shall cover more of that in our sections dedicated to NLP. \n",
    "\n",
    "![](https://static1.squarespace.com/static/5552e2d6e4b098f713cf2613/t/56e3930327d4bdfdac7c34a9/1457754894624/?format=750w)\n",
    "\n",
    "Here we shall look at some basic techniques that you might want to use for cleaning text data and look for important words, mentions, URLs  or hashtags etc.\n",
    "\n",
    "#### Good old word count ..\n",
    "\n",
    "A very fundamental NLP skill, without using any complicated algorithms is to count the occurrences of words/terms (known as **TERM FREQUENCIES** of TFs). With this, we can observe what are the terms most commonly used in the data set.\n",
    "\n",
    "### Tokenization\n",
    "\n",
    "Tokenization is an NLP specific term which concerns with breaking down a text document (like a tweet) into its tokens (words/terms). Below we have a simple custom tokenization routine that will parse each tweet and split it into words/terms to capture Twitter-specific aspects of the text, such as **#hashtags**, **@mentions**, **emoticons** and **URLs**. In order to tokenize , you simply need to pass each tweet to the `preprocess_tweet()` function below and it will be split into its constituent terms. "
   ]
  },
  {
   "cell_type": "code",
   "execution_count": 8,
   "metadata": {},
   "outputs": [],
   "source": [
    "# A SIMPLE TOKENZIER IMPLEMENTAION \n",
    "\n",
    "# Import Regular Expressions\n",
    "import re\n",
    "\n",
    "# Identify some basic emoticon elements (face, nose, mouth )- you are encouraged to add more for other emoticons\n",
    "emoticons_str = r\"\"\"\n",
    "    (?:\n",
    "        [:=;] # Eyes\n",
    "        [oO\\-]? # Nose (optional)\n",
    "        [D\\)\\]\\(\\]/\\\\OpP] # Mouth\n",
    "    )\"\"\"\n",
    "\n",
    "# Identify Twitter specific elements in a tweet\n",
    "regex_str = [\n",
    "    emoticons_str,\n",
    "    r'<[^>]+>', # HTML tags\n",
    "    r'(?:@[\\w_]+)', # @-mentions\n",
    "    r\"(?:\\#+[\\w_]+[\\w\\'_\\-]*[\\w_]+)\", # hash-tags\n",
    "    r'http[s]?://(?:[a-z]|[0-9]|[$-_@.&amp;+]|[!*\\(\\),]|(?:%[0-9a-f][0-9a-f]))+', # URLs\n",
    " \n",
    "    r'(?:(?:\\d+,?)+(?:\\.?\\d+)?)', # numbers\n",
    "    r\"(?:[a-z][a-z'\\-_]+[a-z])\", # words with - and '\n",
    "    r'(?:[\\w_]+)', # other words\n",
    "    r'(?:\\S)' # anything else\n",
    "]\n",
    "    \n",
    "tokens_re = re.compile(r'('+'|'.join(regex_str)+')', re.VERBOSE | re.IGNORECASE)\n",
    "emoticon_re = re.compile(r'^'+emoticons_str+'$', re.VERBOSE | re.IGNORECASE)\n",
    " \n",
    "def tokenize(s):\n",
    "    return tokens_re.findall(s)\n",
    " \n",
    "def preprocess_tweet(s, lowercase=False):\n",
    "    tokens = tokenize(s)\n",
    "    if lowercase:\n",
    "        tokens = [token if emoticon_re.search(token) else token.lower() for token in tokens]\n",
    "    return tokens"
   ]
  },
  {
   "cell_type": "markdown",
   "metadata": {},
   "source": [
    "The code above uses a lot of regular expressions to search for twitter specific terms. Let's pass in a sample tweet to `preprocess_tweet` function and inspect the output."
   ]
  },
  {
   "cell_type": "code",
   "execution_count": 9,
   "metadata": {},
   "outputs": [
    {
     "name": "stdout",
     "output_type": "stream",
     "text": [
      "['ExampleTweet', '@datascienceguy', ':', 'You', 'are', 'an', 'NLP', 'superstar', ':D', 'http://example.com', '#NLP', '#datascience', ':P']\n"
     ]
    }
   ],
   "source": [
    "example_tweet = 'ExampleTweet @datascienceguy: You are an NLP superstar :D http://example.com #NLP #datascience :P'\n",
    "print(preprocess_tweet(example_tweet))\n"
   ]
  },
  {
   "cell_type": "markdown",
   "metadata": {},
   "source": [
    "So here you can see that each word, URL, emoticon has been sucessfully identified as a **Term**. Now we can do some basic analysis with these terms. "
   ]
  },
  {
   "cell_type": "markdown",
   "metadata": {},
   "source": [
    "### Count Term Frequencies\n",
    "\n",
    "As a first step, we can simply count the total number of occurances of teach term. Keep in mind that at this stage , we are also counting punctuation marks and common words like \"the\" \"of\" \"for etc. \n",
    "\n",
    "Perform following tasks. \n",
    "* Load the JSON file `tweets.json` into a new variable called `data`. \n",
    "* In order to keep track of the frequencies while we are processing the tweets, we can use `collections.Counter()`  from the `Counter` library, which behaves is a dictionary (term: count) with some useful methods like `update()` and `most_common()`. [Here is a link to official doc. for consultation](https://docs.python.org/2/library/collections.html).\n",
    "* Iterate through the list of tweets update the term counter using `.update()` method for all terms after each iteration.\n",
    "* Count all the terms and list top ten most common terms"
   ]
  },
  {
   "cell_type": "code",
   "execution_count": 10,
   "metadata": {},
   "outputs": [
    {
     "name": "stdout",
     "output_type": "stream",
     "text": [
      "[(':', 217), ('.', 181), ('the', 141), (',', 125), ('RT', 120), ('of', 118), ('…', 115), ('to', 91), ('and', 90), ('in', 88)]\n"
     ]
    }
   ],
   "source": [
    "# Count all terms frequency from the saved JSON file\n",
    "with open('tweets.json', encoding='utf-8') as json_file:  \n",
    "\n",
    "    data = json.load(json_file)\n",
    "    count_all = Counter()\n",
    "    \n",
    "    for tweet in data:\n",
    "        \n",
    "        # Create a list with all the terms\n",
    "        terms_all = [term for term in preprocess_tweet(tweet['full_text'])]\n",
    "        # Update the counter\n",
    "        count_all.update(terms_all)\n",
    "\n",
    "print(count_all.most_common(10))\n",
    "# [(':', 142), ('.', 94), (',', 92), ('RT', 91), ('the', 81), ('to', 65), \n",
    "# ('…', 65), ('of', 65), ('and', 64), ('a', 58)]"
   ]
  },
  {
   "cell_type": "markdown",
   "metadata": {},
   "source": [
    "Right so in above output , we see that our punctuation marks and common terms like \"the\" and \"of\" etc. are being shown as top terms. The next step is to remove these words to focus on more IMPORTANT words. this step is called the \"Stop-word Removal\"."
   ]
  },
  {
   "cell_type": "markdown",
   "metadata": {},
   "source": [
    "### Stop Word Removal\n",
    "\n",
    "Every language has words that are very common. While their use in the language is very important, they do not carry any clear meaning on their own like conjunctions,  adverbs, etc. In the language of NLP , these are referred to as **Stop-words**. \n",
    "Stop-word removal is one important step that should be considered during the pre-processing stages. One can build a custom list of stop-words, or use available lists (e.g. [NLTK](https://www.nltk.org/) provides a simple list for English stop-words). You can search Internet for domain specific stop-words as well as some words may carry a deeper meaning in one domain while could be meaningless in another. (Try thinking of a few examples).\n",
    "\n",
    "Given the nature of our data and our tokenization, we should also be careful with all the punctuation marks and with terms like RT (used for re-tweets), via (used to mention the original author of an article or a re-tweet), ... (used for ongoing tweet) etc. Below is a stop word list that we build from nltk + punctuation + some twitter specific stop words. Your are encouraged to add more to it. "
   ]
  },
  {
   "cell_type": "code",
   "execution_count": 11,
   "metadata": {},
   "outputs": [
    {
     "name": "stdout",
     "output_type": "stream",
     "text": [
      "['i', 'me', 'my', 'myself', 'we', 'our', 'ours', 'ourselves', 'you', \"you're\", \"you've\", \"you'll\", \"you'd\", 'your', 'yours', 'yourself', 'yourselves', 'he', 'him', 'his', 'himself', 'she', \"she's\", 'her', 'hers', 'herself', 'it', \"it's\", 'its', 'itself', 'they', 'them', 'their', 'theirs', 'themselves', 'what', 'which', 'who', 'whom', 'this', 'that', \"that'll\", 'these', 'those', 'am', 'is', 'are', 'was', 'were', 'be', 'been', 'being', 'have', 'has', 'had', 'having', 'do', 'does', 'did', 'doing', 'a', 'an', 'the', 'and', 'but', 'if', 'or', 'because', 'as', 'until', 'while', 'of', 'at', 'by', 'for', 'with', 'about', 'against', 'between', 'into', 'through', 'during', 'before', 'after', 'above', 'below', 'to', 'from', 'up', 'down', 'in', 'out', 'on', 'off', 'over', 'under', 'again', 'further', 'then', 'once', 'here', 'there', 'when', 'where', 'why', 'how', 'all', 'any', 'both', 'each', 'few', 'more', 'most', 'other', 'some', 'such', 'no', 'nor', 'not', 'only', 'own', 'same', 'so', 'than', 'too', 'very', 's', 't', 'can', 'will', 'just', 'don', \"don't\", 'should', \"should've\", 'now', 'd', 'll', 'm', 'o', 're', 've', 'y', 'ain', 'aren', \"aren't\", 'couldn', \"couldn't\", 'didn', \"didn't\", 'doesn', \"doesn't\", 'hadn', \"hadn't\", 'hasn', \"hasn't\", 'haven', \"haven't\", 'isn', \"isn't\", 'ma', 'mightn', \"mightn't\", 'mustn', \"mustn't\", 'needn', \"needn't\", 'shan', \"shan't\", 'shouldn', \"shouldn't\", 'wasn', \"wasn't\", 'weren', \"weren't\", 'won', \"won't\", 'wouldn', \"wouldn't\", '!', '\"', '#', '$', '%', '&', \"'\", '(', ')', '*', '+', ',', '-', '.', '/', ':', ';', '<', '=', '>', '?', '@', '[', '\\\\', ']', '^', '_', '`', '{', '|', '}', '~', 'rt', 'RT', 'via', 'The', 'the', '…', '¡', '.', ':', ',', 'of']\n"
     ]
    }
   ],
   "source": [
    "# Create a stop word list from nltk stopwords, punctuation marks and some twitter specific stop terms\n",
    "\n",
    "from nltk.corpus import stopwords\n",
    "import string\n",
    "punctuation = list(string.punctuation)\n",
    "stop = stopwords.words('english') + punctuation + ['rt', 'RT',  'via', 'The', 'the', '…', '¡', '.', ':', ',', 'of']\n",
    "print(stop)"
   ]
  },
  {
   "cell_type": "markdown",
   "metadata": {},
   "source": [
    "Now we can simply use this list to clean up our tweets. Perform following tasks\n",
    "* Clear count_all to start a new counter\n",
    "* Change the routine above to collect tweets while filtering with above stop word list. \n",
    "* Use list comprehension to only include terms NOT found in the stop-word list \n",
    "* Print the top ten most common terms. "
   ]
  },
  {
   "cell_type": "code",
   "execution_count": 12,
   "metadata": {},
   "outputs": [
    {
     "data": {
      "text/plain": [
       "<function Counter.clear>"
      ]
     },
     "execution_count": 12,
     "metadata": {},
     "output_type": "execute_result"
    }
   ],
   "source": [
    "count_all.clear"
   ]
  },
  {
   "cell_type": "code",
   "execution_count": 13,
   "metadata": {},
   "outputs": [
    {
     "name": "stdout",
     "output_type": "stream",
     "text": [
      "[(':', 217), ('.', 181), ('the', 141), (',', 125), ('RT', 120), ('of', 118), ('…', 115), ('@NWS', 100), ('to', 91), ('and', 90)]\n"
     ]
    }
   ],
   "source": [
    "# Calculate term frequencies\n",
    "count_all.clear\n",
    "for tweet in data:\n",
    "        \n",
    "        # Create a list with all the terms\n",
    "        tminus_stop = [term for term in preprocess_tweet(tweet['full_text']) if term not in stop]\n",
    "        # Update the counter\n",
    "        count_all.update(tminus_stop)\n",
    "\n",
    "print(count_all.most_common(10))\n",
    "\n",
    "\n",
    "\n",
    "    \n",
    "# [('Vote', 35), ('#ODSCWest', 29), ('Data', 26), ('#ODSC', 21), ('#DataScience', 18), \n",
    "# ('’', 16), ('AI', 16), ('#AI', 14), ('@ODSC', 13), ('data', 12)]"
   ]
  },
  {
   "cell_type": "markdown",
   "metadata": {},
   "source": [
    "So this looks much better, still not perfect though. Remember this is an iterative process and you would want to refine your stop word list. Here we see some useful terms like commonly mentioned hashtags etc. with lots of unwanted terms that xcould be included as stop words. Do some survey on other stop-word lists available online and include them with you own criteria. "
   ]
  },
  {
   "cell_type": "markdown",
   "metadata": {},
   "source": [
    "## More Term Filtering\n",
    "\n",
    "Besides stop-word removal, we can further customize the list of terms we are interested in. \n",
    "\n",
    "### Calculate Document  Frequency\n",
    "\n",
    "> The number of documents in the collection that contain a term t.\n",
    "\n",
    "We can also calculate document frequency which shows us the number of documents (tweets) that show a specific term. For this we can make small tweaks to the code we used to calculate all terms frequencies for all document. Here we shall count every term only once in every document and see how many documents contain a specific term. For this you need to clear the counter, and perform following tasks for every tweet.\n",
    "\n",
    "* Calculate frequencies for all terms while filtering out the stop words\n",
    "* Make a set of unique terms (counted only once) for each tweet\n",
    "* Update the counter \n",
    "\n",
    "* Show the top 20 terms from the counter"
   ]
  },
  {
   "cell_type": "code",
   "execution_count": 15,
   "metadata": {},
   "outputs": [
    {
     "name": "stdout",
     "output_type": "stream",
     "text": [
      "[('@NWS', 50), ('@NOAANCEIclimate', 42), ('#DroughtMonitor', 35), ('#Drought2018', 29), ('@noaaocean', 24), ('#drought', 22), ('https://t.co/YBE9JQoznR', 22), ('October', 22), ('#StateOfClimate', 21), ('NOAA', 20), ('amp', 19), ('2018', 18), ('11', 17), ('’', 16), ('across', 16), ('record', 15), ('S', 14), ('week', 14), ('US', 14), ('snow', 14)]\n"
     ]
    }
   ],
   "source": [
    "# Calculate document frequencies\n",
    "\n",
    "count_all.clear()    \n",
    "\n",
    "for tweet in data:\n",
    "    \n",
    "    terms_minus_stop = [term for term in preprocess_tweet(tweet['full_text']) if term not in stop]\n",
    "    # Get unique terms\n",
    "    terms_single = set(terms_minus_stop)    \n",
    "    # Update the counter\n",
    "    count_all.update(terms_single)\n",
    "    \n",
    "# Count terms only once, equivalent to Document Frequency\n",
    "terms_single = set(terms_all)\n",
    "print(count_all.most_common(20))\n",
    "\n",
    "\n",
    "\n",
    "# [('#ODSCWest', 29), ('Data', 24), ('#ODSC', 21), ('#DataScience', 18), ('’', 14), \n",
    "# ('AI', 14), ('#AI', 14), ('@ODSC', 13), ('data', 12), ('Science', 11), ('A', 11), ('2018', 11), \n",
    "# ('West', 11), ('3', 9), ('amp', 9), ('Join', 8), ('Nov', 8), ('How', 8), ('#bordercollie', 8), ('Python', 7)]"
   ]
  },
  {
   "cell_type": "markdown",
   "metadata": {},
   "source": [
    "Do you see any improvements in results ? You may need to work more on the stop word list and maybe filter out the numerical terms like dates and other numbers. You could also filter out terms with length less than a set threshold e.g. only include terms that carry 4 or more characters. Like we saw earlier, it is an iterative process and we may have to revisit our parsing code a few times to get more meaningful answers.\n",
    "\n",
    "### Calculate Hashtag Frequencies\n",
    "\n",
    "A Hashtag in a tweet is just another term , identified by a hash (#) sign. Let's iterate through our corpus of tweets again collecting all terms that are hashtags i.e. start with a #. Perform following tasks for each tweet:\n",
    "* Reset the counter\n",
    "* Collect the terms starting with # sign\n",
    "* Update the counter\n",
    "* List and visualize top 20 hashtags as bar charts and label properly"
   ]
  },
  {
   "cell_type": "code",
   "execution_count": 17,
   "metadata": {},
   "outputs": [
    {
     "name": "stdout",
     "output_type": "stream",
     "text": [
      "[('#DroughtMonitor', 35), ('#Drought2018', 29), ('#drought', 22), ('#StateOfClimate', 21), ('#Michael', 10), ('#November', 5), ('#CoralsWeek', 5), ('#GOES17', 5), ('#', 4), ('#Climate', 4), ('#October', 4), ('#Antarctic', 3), ('#Arctic', 3), ('#GOESEast', 3), ('#weather', 3), ('#WinterOutlook', 3), ('#September', 3), ('#Drought', 2), ('#AGU18', 2), ('#wildfires', 2)]\n"
     ]
    },
    {
     "data": {
      "image/png": "[encoded data removed]",
      "text/plain": [
       "<Figure size 1080x360 with 1 Axes>"
      ]
     },
     "metadata": {},
     "output_type": "display_data"
    }
   ],
   "source": [
    "# Calculte top 20 hashtags\n",
    "count_all.clear() \n",
    "for tweet in data:\n",
    "    \n",
    "    # Count hashtags only\n",
    "    terms_hash = [term for term in preprocess_tweet(tweet['full_text']) if term.startswith('#')]\n",
    "    # Update the counter\n",
    "    count_all.update(terms_hash)\n",
    "\n",
    "print(count_all.most_common(20))\n",
    "top20 = count_all.most_common(20)\n",
    "\n",
    "# Plot top 20 hashtags\n",
    "\n",
    "import matplotlib.pyplot as plt\n",
    "plt.style.use('seaborn')\n",
    "from pylab import rcParams\n",
    "rcParams['figure.figsize'] =15, 5\n",
    "plt.bar(range(len(top20)), [val[1] for val in top20], align='center')\n",
    "plt.xticks(range(len(top20)), [val[0] for val in top20])\n",
    "plt.xticks(rotation=70)\n",
    "plt.title('Top 20 Hashtags')\n",
    "plt.xlabel('Hashtags')\n",
    "plt.ylabel('Frequency')\n",
    "plt.show()\n",
    "# Plot top 20 hashtags\n",
    "\n",
    "\n",
    "\n",
    "# [('#ODSCWest', 29), ('#ODSC', 21), ('#DataScience', 18), ('#AI', 14), ('#bordercollie', 8), \n",
    "# ('#', 6), ('#abdsc', 4), ('#BigData', 4), ('#MachineLearning', 4), ('#datascience', 4), \n",
    "# ('#BorderCollie', 4), ('#DeepLearning', 2), ('#Python', 2), ('#puppy', 2), ('#dogs', 2), \n",
    "#('#dogsoftwitter', 2), ('#collie', 2), ('#earlyvote', 2), ('#TeamAbrams', 1), ('#GAGov', 1)]"
   ]
  },
  {
   "cell_type": "code",
   "execution_count": null,
   "metadata": {},
   "outputs": [],
   "source": []
  },
  {
   "cell_type": "markdown",
   "metadata": {},
   "source": [
    "### Calculate Bi-gram Frequencies \n",
    "\n",
    "While the frequent terms post cleaning, stop removal etc. represent a clear topic, simple term frequencies don’t give us a deeper explanation of what the text is about. To put things in context, let’s consider sequences of two terms combined (a.k.a. bigrams).\n",
    "\n",
    "> **A bigram is a sequence of two adjacent elements from a string of tokens, which are typically letters, syllables, or words. A bigram is an n-gram for n=2. The frequency distribution of every bigram in a string is commonly used for simple statistical analysis of text in many applications, including in computational linguistics, cryptography, speech recognition, and so on.**(wiki)\n",
    "\n",
    "We can import bigrams function from nltk library to automatically create bigrams from a given sequence of text. Here is a quick demo:"
   ]
  },
  {
   "cell_type": "code",
   "execution_count": 18,
   "metadata": {},
   "outputs": [
    {
     "data": {
      "text/plain": [
       "[('This', 'is'),\n",
       " ('is', 'a'),\n",
       " ('a', 'very'),\n",
       " ('very', 'simple'),\n",
       " ('simple', 'sentence')]"
      ]
     },
     "execution_count": 18,
     "metadata": {},
     "output_type": "execute_result"
    }
   ],
   "source": [
    "from nltk import bigrams \n",
    "\n",
    "text = 'This is a very simple sentence'\n",
    "terms = [term for term in preprocess_tweet(text)]\n",
    "terms_bigram = bigrams(terms)\n",
    "list(terms_bigram)\n"
   ]
  },
  {
   "cell_type": "markdown",
   "metadata": {},
   "source": [
    "The combination of two words may help get the deeper understanding of the tweet. You could also calculate trigrams or even higher , but it might get computationally expensive. \n",
    "\n",
    "You are required to calculate the frequencies of bigrams in the collected tweets, and find the most frequent combination of two adjacent elements. Perform following tasks:\n",
    "\n",
    "* Clear the counter \n",
    "* Collect all the terms excluding stop words, hashtags and mentions\n",
    "* Calculte the bigrams for each tweet and update counter with frequencies\n",
    "* Display and top 20 bigrams"
   ]
  },
  {
   "cell_type": "code",
   "execution_count": null,
   "metadata": {},
   "outputs": [],
   "source": [
    "count_all.clear() \n",
    "\n",
    "for tweet in data:\n",
    "    \n",
    "    # Count terms only (no hashtags, no mentions)\n",
    "    terms_only = [term for term in preprocess_tweet(tweet['full_text']) if term not in stop and not term.startswith(('#', '@'))] \n",
    "    # Update the counter\n",
    "    terms_bigrams= bigrams(terms_only)\n",
    "    count_all.update(list(terms_bigrams))\n",
    "    \n",
    "print (count_all.most_common(20))"
   ]
  },
  {
   "cell_type": "code",
   "execution_count": 21,
   "metadata": {
    "scrolled": true
   },
   "outputs": [
    {
     "name": "stdout",
     "output_type": "stream",
     "text": [
      "[(('U', 'S'), 13), (('October', '16'), 9), (('moderate', 'worse'), 8), (('Your', 'state'), 8), (('M', 'people'), 7), (('United', 'States'), 6), (('storm', 'system'), 6), (('Looking', 'ahead'), 5), (('last', 'week'), 5), (('contiguous', 'US'), 5), (('4', 'th'), 5), (('NOAA', '’'), 5), (('More', 'https://t.co/YBE9JQoznR'), 5), (('th', 'warmest'), 5), (('winter', 'storm'), 5), (('11', '13'), 5), (('weather', 'conditions'), 5), (('October', '23'), 5), (('Significant', 'Events'), 4), (('sea', 'ice'), 4)]\n"
     ]
    }
   ],
   "source": [
    "# Show the frequency of top 20 bigrams in the corpus\n",
    "count_all.clear()\n",
    "\n",
    "for tweet in data:\n",
    "    \n",
    "    terms_only = [term for term in preprocess_tweet(tweet['full_text']) if term not in stop and not term.startswith(('#','@'))]\n",
    "    \n",
    "    terms_bigrams = bigrams(terms_only)\n",
    "    \n",
    "    count_all.update(list(terms_bigrams))\n",
    "\n",
    "print (count_all.most_common(20))\n",
    "\n",
    "# [(('Vote', 'Vote'), 33), (('Data', 'Science'), 11), (('San', 'Francisco'), 7), \n",
    "# (('West', '2018'), 7), (('Oct', '31'), 5), (('31', 'Nov'), 5), (('Nov', '3'), 5), \n",
    "# (('Don', '’'), 4), (('Francisco', 'Oct'), 4), (('Big', 'Data'), 4), (('machine', 'learning'), 3), \n",
    "# (('data', 'scientists'), 3), (('data', 'science'), 3), (('Machine', 'Learning'), 3), \n",
    "# (('Deep', 'Learning'), 3), (('Data', 'Scientist'), 3), (('LIVESTREAM', 'Pass'), 3), \n",
    "# (('I', '’'), 3), (('\\u2066', '\\u2069'), 3), (('Cheat', 'Sheet'), 2)]"
   ]
  },
  {
   "cell_type": "markdown",
   "metadata": {},
   "source": [
    "So we start to see something a bit more meaningful. For this case, we see more meaningul combinations of words which clearly indicate themes or recurring topics within tweets. A bit more effort can really get us results that can be easily analyzed to get some real insights. "
   ]
  },
  {
   "cell_type": "markdown",
   "metadata": {},
   "source": [
    "## Collecting Tweets From A User's Timeline - `user_timeline()` method\n",
    "\n",
    "\n",
    "For some analyses, you may be interested in collecting tweets from someone else's timeline. We can use `user_timeline()` method to achieve this while passing `id=name` parameter to identify the user. Let's collect last 100 tweets from \"FlatironSchool\" and visualize top 10 hashtags and mentions. Apart from the new method `user_timeline()`, everything else will remain the same as above. Perform following tasks:\n",
    "\n",
    "* Collect last 200 tweets from \"FlatironSchool\"\n",
    "* Calculate top 10 hashtags and mentions as terms from collected tweets\n",
    "* Visualize results as bargraphs in both cases"
   ]
  },
  {
   "cell_type": "code",
   "execution_count": null,
   "metadata": {},
   "outputs": [],
   "source": [
    "# Calculate and Visulize top 10 hashtags in last 200 tweets from FlatironSchool's Timeline\n"
   ]
  },
  {
   "cell_type": "code",
   "execution_count": null,
   "metadata": {},
   "outputs": [],
   "source": [
    "# Calculate and Visulize top 10 mentions in last 200 tweets from FlatironSchool's Timeline \n",
    "# Exclude @FlatironSchool mentions \n"
   ]
  },
  {
   "cell_type": "markdown",
   "metadata": {},
   "source": [
    "## Collecting Tweets Using a Keyword -  `.search()` method\n",
    "\n",
    "Let’s look at one last use case i.e. getting the most recent tweets that contain a specific keyword. This can be extremely useful if you want to monitor specifically mentioned topics in the Twitter world, or even to see how your business is getting mentioned. We shall use Twitter standard serach API whith `q=query` parameter to pass our search query.  \n",
    "\n",
    "Let’s say we want to see how FlatironSchool is being been mentioned on Twitter. We would like to see which Twitter  users are being mentioned in conjunction with FlatironSchool. Remember maxiumum number of tweets you can mine is 180 per 15 minutes window. \n",
    "\n",
    "Perform following tasks\n",
    "* Clear the counter\n",
    "* Collect 200 tweets that mention Flatiron School using `.search()` method. (Use `language=en` to collect english tweets only)\n",
    "* Collect the top 30 @mentions from the all tweets that mention FlatironSchool.\n",
    "* Visualize the results as a wordcloud"
   ]
  },
  {
   "cell_type": "code",
   "execution_count": null,
   "metadata": {},
   "outputs": [],
   "source": [
    "# The search term you want to find\n",
    "query = \"FlatironSchool\"\n",
    "# Language code (follows ISO 639-1 standards)\n",
    "language = \"en\"\n",
    "tweetCount = 200\n",
    "\n",
    "# [('@FlatironSchool', 83), ('@fulmolightning', 52), ('@pierre_rochard', 21), \n",
    "# ('@peterktodd', 19), ('@MsJisola', 17), ('@ElectrumWallet', 17), ('@BtcpayServer', 14), \n",
    "# ('@r0ckstardev', 13), ('@Blockstream', 12), ('@Excellion', 12), ('@rootzoll', 11), \n",
    "# ('@CryptoCloaks', 8), ('@CasaHODL', 7), ('@overtorment', 6), ('@CReckhow', 5), \n",
    "# ('@starkness', 4), ('@CodeNewbies', 4), ('@TeachFirst', 4), ('@jeetsidhu_', 3), ('@Snyke', 3)]"
   ]
  },
  {
   "cell_type": "markdown",
   "metadata": {},
   "source": [
    "Another common way to view dominant terms in a corpus of text is to visualize a wordcloud of top n terms. Here is an API reference for [WordCloud for Python](https://amueller.github.io/word_cloud/references.html). \n",
    "* Create a word cloud from top 20 mentions above to highlight who is being mentioned most. "
   ]
  },
  {
   "cell_type": "code",
   "execution_count": null,
   "metadata": {},
   "outputs": [],
   "source": [
    "# Visualize the word cloud for top 20 mentions everytime flatiron school gets mentioned in a tweet"
   ]
  },
  {
   "cell_type": "markdown",
   "metadata": {},
   "source": [
    "This looks great. Try collecting a large number of tweets using the cfietria seen previously and create a more populated word cloud. You can also customize and prettify it to your heart's content. \n",
    "\n",
    "## From JSON to DataFrames\n",
    "\n",
    "So far, we have been processing our tweets directly from the JSON files. It may be desired for an advanced analystical experiment to store data as pandas dataframe and enjoy all the goodness of pandas, scikitlearn and buult in statistics. Let's try to select some selected parts of the tweet and save it nicely as pandas dataframe and csv file. \n",
    "\n",
    "#### Load `tweets.json`  and save following contents as pandas dataframe `tweet_json_df`\n",
    "    * id\n",
    "    * full_text\n",
    "    * favorite_count\n",
    "    * retweet_count\n",
    "    * created_at\n",
    "\n",
    "* Set some meaningful names for dataframe columns to store these values.\n",
    "* Print the dataframe head to inspect the contents\n",
    "* save data as \"tweets.csv\""
   ]
  },
  {
   "cell_type": "code",
   "execution_count": null,
   "metadata": {
    "scrolled": false
   },
   "outputs": [],
   "source": [
    "# Parse the JSON file, selecting above attributes for each tweet and saving as a new row in a pandas dataframe\n",
    "\n",
    "\n",
    "\n",
    "# tweet_id\t             text\t                                         favorite_count\tretweet_count\tcreated_at\n",
    "# 0\t1056647627062661121\tRT @RalstonReports: The turnout models are loo...\t0\t15\tSun Oct 28 20:43:20 +0000 2018\n",
    "# 1\t1056647041093373952\t[Cheat Sheet] Python Basics For Data Science h...\t2\t1\tSun Oct 28 20:41:00 +0000 2018\n",
    "# 2\t1056640802401615872\tRT @Popehat: NYT: Well, Okay, But Are People ...\t0\t620\tSun Oct 28 20:16:13 +0000 2018\n",
    "# 3\t1056639940438544384\thttps://t.co/txeJ3g9IMW\t1\t1\tSun Oct 28 20:12:47 +0000 2018\n",
    "# 4\t1056638994203729922\tIBM and NVIDIA collaborate to expand machine l...\t3\t1\tSun Oct 28 20:09:02 +0000 2018"
   ]
  },
  {
   "cell_type": "markdown",
   "metadata": {},
   "source": [
    "So there we have it. The skills that you have learned in this lab can be used towards data journalism, data science related articles etc. These skills will also come in handy for more advanced NLP techniques like topic modelling, sentiment analysis, emoticon analysis etc. "
   ]
  },
  {
   "cell_type": "markdown",
   "metadata": {},
   "source": [
    "## Level Up - Optional \n",
    "\n",
    "* Try generating more wordclouds from all the examples we saw in this lab. \n",
    "* Ask yourself an analytical question and mine Twitter to get tweets, process them in tweepy and visualize the results. \n",
    "* Count emoticons for smily face, frowning face, excited face etc. and see what are people's sentiments about a specific topic of interest i.e. Brexit, War in Syria, Best actor from last Oscars etc. \n",
    "* See which Twitter member is mentioning you the most at Twitter.\n",
    "* ON-going : Repeatedly mine twitter (say once per day) on a topic of interest and collect,parse,visualize tweets to see any changing trends. "
   ]
  },
  {
   "cell_type": "markdown",
   "metadata": {},
   "source": [
    "## Further Reading \n",
    "\n",
    "* [Introduction to NLP](https://blog.algorithmia.com/introduction-natural-language-processing-nlp/)\n",
    "* [Python/NLTK Language Processing](http://blog.chapagain.com.np/python-nltk-twitter-sentiment-analysis-natural-language-processing-nlp/)\n",
    "* [Applying NLP to Twitter in Python](https://dzone.com/articles/applying-nlp-to-tweets-with-python)\n",
    "* [Using the Twitter API and NLP to analyze the tweets of different users.](https://towardsdatascience.com/twitter-api-and-nlp-7a386758eb31)"
   ]
  },
  {
   "cell_type": "markdown",
   "metadata": {},
   "source": [
    "## Summary \n",
    "\n",
    "In this lab, we saw how to collect data from twitter using OAuth and collect Tweets under for a number of different use cases. We looked at parsing the JSON file for collecting relevant information and also visualized the outcome of our processing. As a reminder, this lab is supposed to be a data engineering oriented lab, i.e. getting data ready for processing. We shall see more on NLP later in next module of the course. This lab should get you all ready for some serious experiments like sentiment analysis , predictions and classification tasks. "
   ]
  }
 ],
 "metadata": {
  "kernelspec": {
   "display_name": "Python 3",
   "language": "python",
   "name": "python3"
  },
  "language_info": {
   "codemirror_mode": {
    "name": "ipython",
    "version": 3
   },
   "file_extension": ".py",
   "mimetype": "text/x-python",
   "name": "python",
   "nbconvert_exporter": "python",
   "pygments_lexer": "ipython3",
   "version": "3.6.7"
  }
 },
 "nbformat": 4,
 "nbformat_minor": 2
}
